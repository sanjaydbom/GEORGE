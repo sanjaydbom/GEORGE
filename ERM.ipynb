{
 "cells": [
  {
   "cell_type": "code",
   "execution_count": 198,
   "metadata": {},
   "outputs": [],
   "source": [
    "import spuco.datasets as dsets\n",
    "from spuco.datasets.base_spuco_dataset import SpuriousFeatureDifficulty\n",
    "import torchvision.transforms as T\n",
    "import torch\n",
    "import matplotlib.pyplot as plt\n",
    "import numpy as np\n",
    "from torch import nn\n",
    "from torch.utils.data import TensorDataset, DataLoader\n",
    "from sklearn.preprocessing import StandardScaler"
   ]
  },
  {
   "cell_type": "markdown",
   "metadata": {},
   "source": [
    "Download modified MNIST data"
   ]
  },
  {
   "cell_type": "code",
   "execution_count": 186,
   "metadata": {},
   "outputs": [
    {
     "name": "stderr",
     "output_type": "stream",
     "text": [
      "100%|██████████| 48004/48004 [00:00<00:00, 51627.47it/s]\n",
      "100%|██████████| 10000/10000 [00:00<00:00, 49186.43it/s]\n"
     ]
    }
   ],
   "source": [
    "trainset = dsets.spuco_mnist.SpuCoMNIST(\n",
    "    root=\"data/mnist/\",\n",
    "    spurious_feature_difficulty=SpuriousFeatureDifficulty.MAGNITUDE_LARGE,\n",
    "    spurious_correlation_strength=0.995,\n",
    "    classes=[[0,1],[2,3],[4,5],[6,7],[8,9]]\n",
    ")\n",
    "trainset.initialize()\n",
    "\n",
    "testset = dsets.spuco_mnist.SpuCoMNIST(\n",
    "    root=\"data/mnist/\",\n",
    "    spurious_feature_difficulty=SpuriousFeatureDifficulty.MAGNITUDE_LARGE,\n",
    "    spurious_correlation_strength=0.995,\n",
    "    classes=[[0,1],[2,3],[4,5],[6,7],[8,9]],\n",
    "    split='test'\n",
    ")\n",
    "testset.initialize()"
   ]
  },
  {
   "cell_type": "markdown",
   "metadata": {},
   "source": [
    "Check the data to see how it looks"
   ]
  },
  {
   "cell_type": "code",
   "execution_count": 187,
   "metadata": {},
   "outputs": [
    {
     "name": "stdout",
     "output_type": "stream",
     "text": [
      "2\n"
     ]
    },
    {
     "data": {
      "text/plain": [
       "<matplotlib.image.AxesImage at 0x34282b1a0>"
      ]
     },
     "execution_count": 187,
     "metadata": {},
     "output_type": "execute_result"
    },
    {
     "data": {
      "image/png": "[encoded data removed]",
      "text/plain": [
       "<Figure size 640x480 with 1 Axes>"
      ]
     },
     "metadata": {},
     "output_type": "display_data"
    }
   ],
   "source": [
    "print(trainset[0][1])\n",
    "array = np.transpose(np.array(trainset[0][0]), (1,2,0))\n",
    "plt.imshow(array)"
   ]
  },
  {
   "cell_type": "markdown",
   "metadata": {},
   "source": [
    "Define the architecture for the model we will be using.\n",
    "First we use 2 convolution layers of size 5x5 and create 18 total images. We use a 2x2 window to maxpool the image and the activation function is Relu. Then we flatten the image and run it through a fully connected network of 288->64->5 neurons"
   ]
  },
  {
   "cell_type": "code",
   "execution_count": 188,
   "metadata": {},
   "outputs": [],
   "source": [
    "class LeNet(nn.Module):\n",
    "    def __init__(self):\n",
    "        super().__init__()\n",
    "        self.net = torch.nn.Sequential(\n",
    "            nn.Conv2d(3,9,(5,5)),\n",
    "            nn.ReLU(),\n",
    "            nn.MaxPool2d((2,2)),\n",
    "            nn.Conv2d(9,18,(5,5)),\n",
    "            nn.ReLU(),\n",
    "            nn.MaxPool2d((2,2)),\n",
    "            nn.Flatten(1,-1),\n",
    "            nn.Linear(288,64),\n",
    "            )\n",
    "        self.relu = nn.ReLU()\n",
    "        self.l = nn.Linear(64,5)\n",
    "\n",
    "    def forward(self, x):\n",
    "        x = self.net(x)\n",
    "        x = self.relu(x)\n",
    "        return self.l(x)\n",
    "    "
   ]
  },
  {
   "cell_type": "markdown",
   "metadata": {},
   "source": [
    "Data processing.\n",
    "Training Batch size is 5."
   ]
  },
  {
   "cell_type": "code",
   "execution_count": 189,
   "metadata": {},
   "outputs": [],
   "source": [
    "\n",
    "scaler = StandardScaler()\n",
    "batch_size = 5\n",
    "train_labels = trainset.labels\n",
    "train_images = np.array([trainset[i][0] for i in range(len(trainset))])\n",
    "test_labels = testset.labels\n",
    "test_images = np.array([testset[i][0] for i in range(len(testset))])\n",
    "train_images = torch.tensor(train_images, dtype = torch.float32)\n",
    "train_labels = torch.tensor(train_labels, dtype = torch.long)\n",
    "test_images = torch.tensor(test_images, dtype = torch.float32)\n",
    "test_labels = torch.tensor(test_labels, dtype = torch.long)\n",
    "train1 = TensorDataset(train_images, train_labels)\n",
    "test1 = TensorDataset(test_images, test_labels)\n",
    "train = DataLoader(train1, batch_size)\n",
    "test = DataLoader(test1,5)"
   ]
  },
  {
   "cell_type": "markdown",
   "metadata": {},
   "source": [
    "Training with AdamW optimizer and learning rate of 0.00005. The loss function is Cross Entropy Loss. We train for 30 epochs. We also incorporate a transform to normalize the data and aid the training process, and use a learning rate reducer to help with plateaus in the training"
   ]
  },
  {
   "cell_type": "code",
   "execution_count": 194,
   "metadata": {},
   "outputs": [
    {
     "name": "stdout",
     "output_type": "stream",
     "text": [
      "Epoch 1: Training Loss = 0.0943, Testing Loss = 5.5661\n",
      "Epoch 2: Training Loss = 0.0398, Testing Loss = 5.3547\n",
      "Epoch 3: Training Loss = 0.0384, Testing Loss = 5.1971\n",
      "Epoch 4: Training Loss = 0.0371, Testing Loss = 5.0019\n",
      "Epoch 5: Training Loss = 0.0356, Testing Loss = 4.7599\n",
      "Epoch 6: Training Loss = 0.0336, Testing Loss = 4.4667\n",
      "Epoch 7: Training Loss = 0.0312, Testing Loss = 4.1415\n",
      "Epoch 8: Training Loss = 0.0286, Testing Loss = 3.8335\n",
      "Epoch 9: Training Loss = 0.0262, Testing Loss = 3.5498\n",
      "Epoch 10: Training Loss = 0.0238, Testing Loss = 3.2978\n",
      "Epoch 11: Training Loss = 0.0217, Testing Loss = 3.0694\n",
      "Epoch 12: Training Loss = 0.0199, Testing Loss = 2.8742\n",
      "Epoch 13: Training Loss = 0.0182, Testing Loss = 2.6892\n",
      "Epoch 14: Training Loss = 0.0166, Testing Loss = 2.5236\n",
      "Epoch 15: Training Loss = 0.0152, Testing Loss = 2.3963\n",
      "Epoch 16: Training Loss = 0.0138, Testing Loss = 2.2892\n",
      "Epoch 17: Training Loss = 0.0125, Testing Loss = 2.2013\n",
      "Epoch 18: Training Loss = 0.0114, Testing Loss = 2.1334\n",
      "Epoch 19: Training Loss = 0.0103, Testing Loss = 2.0752\n",
      "Epoch 20: Training Loss = 0.0093, Testing Loss = 2.0110\n",
      "Epoch 21: Training Loss = 0.0083, Testing Loss = 1.9825\n",
      "Epoch 22: Training Loss = 0.0074, Testing Loss = 1.9478\n",
      "Epoch 23: Training Loss = 0.0066, Testing Loss = 1.9210\n",
      "Epoch 24: Training Loss = 0.0059, Testing Loss = 1.9307\n",
      "Epoch 25: Training Loss = 0.0053, Testing Loss = 1.9278\n",
      "Epoch 26: Training Loss = 0.0047, Testing Loss = 1.9170\n",
      "Epoch 27: Training Loss = 0.0042, Testing Loss = 1.9156\n",
      "Epoch 28: Training Loss = 0.0037, Testing Loss = 1.9379\n",
      "Epoch 29: Training Loss = 0.0033, Testing Loss = 1.9380\n",
      "Epoch 30: Training Loss = 0.0029, Testing Loss = 1.9645\n"
     ]
    }
   ],
   "source": [
    "model = LeNet()\n",
    "optimizer = torch.optim.AdamW(model.parameters(), lr = 0.00005)\n",
    "loss_fn = torch.nn.CrossEntropyLoss()\n",
    "from torch.optim.lr_scheduler import ReduceLROnPlateau\n",
    "scheduler = ReduceLROnPlateau(optimizer, mode='min', factor=0.5, patience=5)\n",
    "train_loss = []\n",
    "test_loss = []\n",
    "transform = T.Compose([\n",
    "    T.Normalize(mean=(0.5,0.5,0.5), std=(0.5,0.5,0.5))\n",
    "])\n",
    "epochs = 30\n",
    "best_loss = 100000\n",
    "for epoch in range(epochs):\n",
    "    model.train()\n",
    "    tot_loss = 0\n",
    "    for x,y in train:\n",
    "        x = transform(x)\n",
    "        y_pred = model(x)\n",
    "        loss = loss_fn(y_pred, y)\n",
    "        tot_loss += loss.item()\n",
    "        optimizer.zero_grad()\n",
    "        loss.backward()\n",
    "        optimizer.step()\n",
    "    train_loss.append(tot_loss/len(train))\n",
    "\n",
    "    tot_loss = 0\n",
    "    model.eval()\n",
    "    with torch.no_grad():\n",
    "        for x,y in test:\n",
    "            x = transform(x)\n",
    "            y_pred = model(x)\n",
    "            loss = loss_fn(y_pred, y)\n",
    "            tot_loss += loss.item()\n",
    "        test_loss.append(tot_loss/len(test))\n",
    "    if best_loss > test_loss[-1]:\n",
    "        best_loss = test_loss[-1]\n",
    "        torch.save(model.state_dict(), 'model.pt')\n",
    "    print(f\"Epoch {epoch+1}: Training Loss = {train_loss[epoch]:.4f}, Testing Loss = {test_loss[epoch]:.4f}\")"
   ]
  },
  {
   "cell_type": "markdown",
   "metadata": {},
   "source": [
    "Visulize loss over each epoch"
   ]
  },
  {
   "cell_type": "code",
   "execution_count": 195,
   "metadata": {},
   "outputs": [
    {
     "data": {
      "image/png": "[encoded data removed]",
      "text/plain": [
       "<Figure size 640x480 with 1 Axes>"
      ]
     },
     "metadata": {},
     "output_type": "display_data"
    }
   ],
   "source": [
    "plt.plot(train_loss)\n",
    "plt.plot(test_loss, color='black')\n",
    "plt.grid(True)"
   ]
  },
  {
   "cell_type": "markdown",
   "metadata": {},
   "source": [
    "Test the accuracy of the model after training"
   ]
  },
  {
   "cell_type": "code",
   "execution_count": 196,
   "metadata": {},
   "outputs": [
    {
     "name": "stdout",
     "output_type": "stream",
     "text": [
      "57.96% accuracy on test dataset\n"
     ]
    }
   ],
   "source": [
    "model.load_state_dict(torch.load('model.pt', weights_only=True))\n",
    "num_correct = 0\n",
    "model.eval()\n",
    "with torch.no_grad():\n",
    "    for x,y in test:\n",
    "        y_pred = model(transform(x))\n",
    "        num_correct += (torch.argmax(y_pred, dim=1) == y).sum().item()\n",
    "print(f\"{100*num_correct/(len(test) * 5)}% accuracy on test dataset\")\n",
    "\n",
    "        "
   ]
  },
  {
   "cell_type": "markdown",
   "metadata": {},
   "source": [
    "Save the processed data into files for later use"
   ]
  },
  {
   "cell_type": "code",
   "execution_count": 197,
   "metadata": {},
   "outputs": [],
   "source": [
    "torch.save(train_images,'/Users/sanjay/Desktop/Python Projects/AI/George/train_images.pt')\n",
    "torch.save(train_labels, '/Users/sanjay/Desktop/Python Projects/AI/George/train_labels.pt')\n",
    "torch.save(test_images, '/Users/sanjay/Desktop/Python Projects/AI/George/test_images.pt')\n",
    "torch.save(test_labels, '/Users/sanjay/Desktop/Python Projects/AI/George/test_labels.pt')"
   ]
  }
 ],
 "metadata": {
  "kernelspec": {
   "display_name": "base",
   "language": "python",
   "name": "python3"
  },
  "language_info": {
   "codemirror_mode": {
    "name": "ipython",
    "version": 3
   },
   "file_extension": ".py",
   "mimetype": "text/x-python",
   "name": "python",
   "nbconvert_exporter": "python",
   "pygments_lexer": "ipython3",
   "version": "3.12.2"
  }
 },
 "nbformat": 4,
 "nbformat_minor": 2
}

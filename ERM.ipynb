{
 "cells": [
  {
   "cell_type": "code",
   "execution_count": 85,
   "metadata": {},
   "outputs": [],
   "source": [
    "import spuco.datasets as dsets\n",
    "from spuco.datasets.base_spuco_dataset import SpuriousFeatureDifficulty\n",
    "import torchvision.transforms as T\n",
    "import torch\n",
    "import matplotlib.pyplot as plt\n",
    "import numpy as np\n",
    "from torch import nn\n",
    "from torch.utils.data import TensorDataset, DataLoader, Dataset, WeightedRandomSampler\n",
    "from sklearn.preprocessing import StandardScaler\n",
    "import pandas as pd\n",
    "from collections import defaultdict\n",
    "import os"
   ]
  },
  {
   "cell_type": "markdown",
   "metadata": {},
   "source": [
    "Download modified MNIST data"
   ]
  },
  {
   "cell_type": "code",
   "execution_count": 86,
   "metadata": {},
   "outputs": [
    {
     "name": "stderr",
     "output_type": "stream",
     "text": [
      "100%|██████████| 48004/48004 [00:00<00:00, 50727.29it/s]\n",
      "100%|██████████| 10000/10000 [00:00<00:00, 21395.86it/s]\n",
      "100%|██████████| 11996/11996 [00:00<00:00, 46040.56it/s]\n"
     ]
    }
   ],
   "source": [
    "trainset = dsets.spuco_mnist.SpuCoMNIST(\n",
    "    root=\"data/mnist/\",\n",
    "    spurious_feature_difficulty=SpuriousFeatureDifficulty.MAGNITUDE_LARGE,\n",
    "    spurious_correlation_strength=0.995,\n",
    "    classes=[[0,1],[2,3],[4,5],[6,7],[8,9]]\n",
    ")\n",
    "trainset.initialize()\n",
    "\n",
    "testset = dsets.spuco_mnist.SpuCoMNIST(\n",
    "    root=\"data/mnist/\",\n",
    "    spurious_feature_difficulty=SpuriousFeatureDifficulty.MAGNITUDE_LARGE,\n",
    "    spurious_correlation_strength=0.995,\n",
    "    classes=[[0,1],[2,3],[4,5],[6,7],[8,9]],\n",
    "    split='test'\n",
    ")\n",
    "testset.initialize()\n",
    "\n",
    "valset = dsets.spuco_mnist.SpuCoMNIST(\n",
    "    root=\"data/mnist/\",\n",
    "    spurious_feature_difficulty=SpuriousFeatureDifficulty.MAGNITUDE_LARGE,\n",
    "    spurious_correlation_strength=0.995,\n",
    "    classes=[[0,1],[2,3],[4,5],[6,7],[8,9]],\n",
    "    split='val'\n",
    ")\n",
    "valset.initialize()"
   ]
  },
  {
   "cell_type": "markdown",
   "metadata": {},
   "source": [
    "Check the data to see how it looks"
   ]
  },
  {
   "cell_type": "code",
   "execution_count": 87,
   "metadata": {},
   "outputs": [
    {
     "name": "stdout",
     "output_type": "stream",
     "text": [
      "2\n"
     ]
    },
    {
     "data": {
      "text/plain": [
       "<matplotlib.image.AxesImage at 0x31ab566f0>"
      ]
     },
     "execution_count": 87,
     "metadata": {},
     "output_type": "execute_result"
    },
    {
     "data": {
      "image/png": "[encoded data removed]",
      "text/plain": [
       "<Figure size 640x480 with 1 Axes>"
      ]
     },
     "metadata": {},
     "output_type": "display_data"
    }
   ],
   "source": [
    "print(trainset[0][1])\n",
    "array = np.transpose(np.array(trainset[0][0]), (1,2,0))\n",
    "plt.imshow(array)"
   ]
  },
  {
   "cell_type": "markdown",
   "metadata": {},
   "source": [
    "Define the architecture for the model we will be using.\n",
    "First we use 2 convolution layers of size 5x5 and create 18 total images. We use a 2x2 window to maxpool the image and the activation function is Relu. Then we flatten the image and run it through a fully connected network of 288->64->5 neurons"
   ]
  },
  {
   "cell_type": "code",
   "execution_count": 88,
   "metadata": {},
   "outputs": [],
   "source": [
    "class LeNet(nn.Module):\n",
    "    def __init__(self):\n",
    "        super().__init__()\n",
    "        self.net = torch.nn.Sequential(\n",
    "            nn.Conv2d(3,9,(5,5)),\n",
    "            nn.ReLU(),\n",
    "            nn.MaxPool2d((2,2)),\n",
    "            nn.Conv2d(9,18,(5,5)),\n",
    "            nn.ReLU(),\n",
    "            nn.MaxPool2d((2,2)),\n",
    "            nn.Flatten(1,-1),\n",
    "            nn.Linear(288,64),\n",
    "            )\n",
    "        self.relu = nn.ReLU()\n",
    "        self.l = nn.Linear(64,5)\n",
    "\n",
    "    def forward(self, x):\n",
    "        x = self.net(x)\n",
    "        x = self.relu(x)\n",
    "        return self.l(x)\n",
    "    "
   ]
  },
  {
   "cell_type": "markdown",
   "metadata": {},
   "source": [
    "Data processing.\n",
    "Training Batch size is 5."
   ]
  },
  {
   "cell_type": "code",
   "execution_count": 89,
   "metadata": {},
   "outputs": [],
   "source": [
    "scaler = StandardScaler()\n",
    "batch_size = 5\n",
    "\n",
    "train_labels = trainset.labels\n",
    "train_images = np.array([trainset[i][0] for i in range(len(trainset))])\n",
    "test_labels = testset.labels\n",
    "test_images = np.array([testset[i][0] for i in range(len(testset))])\n",
    "val_labels = valset.labels\n",
    "val_images = np.array([valset[i][0] for i in range(len(valset))])\n",
    "\n",
    "train_images = torch.tensor(train_images, dtype = torch.float32)\n",
    "train_labels = torch.tensor(train_labels, dtype = torch.long)\n",
    "test_images = torch.tensor(test_images, dtype = torch.float32)\n",
    "test_labels = torch.tensor(test_labels, dtype = torch.long)\n",
    "val_images = torch.tensor(val_images, dtype = torch.float32)\n",
    "val_labels = torch.tensor(val_labels, dtype = torch.long)\n",
    "\n",
    "train1 = TensorDataset(train_images, train_labels)\n",
    "test1 = TensorDataset(test_images, test_labels)\n",
    "val1 = TensorDataset(val_images, val_labels)\n",
    "\n",
    "train = DataLoader(train1, batch_size)\n",
    "test = DataLoader(test1,5)\n",
    "val = DataLoader(val1, 5)"
   ]
  },
  {
   "cell_type": "markdown",
   "metadata": {},
   "source": [
    "Training with AdamW optimizer and learning rate of 0.00005. The loss function is Cross Entropy Loss. We train for 30 epochs. We also incorporate a transform to normalize the data and aid the training process, and use a learning rate reducer to help with plateaus in the training"
   ]
  },
  {
   "cell_type": "code",
   "execution_count": 90,
   "metadata": {},
   "outputs": [
    {
     "name": "stdout",
     "output_type": "stream",
     "text": [
      "Epoch 1: Training Loss = 0.1069, Validation Loss = 0.0459\n",
      "Epoch 2: Training Loss = 0.0416, Validation Loss = 0.0409\n",
      "Epoch 3: Training Loss = 0.0391, Validation Loss = 0.0392\n",
      "Epoch 4: Training Loss = 0.0380, Validation Loss = 0.0383\n",
      "Epoch 5: Training Loss = 0.0371, Validation Loss = 0.0375\n",
      "Epoch 6: Training Loss = 0.0361, Validation Loss = 0.0365\n",
      "Epoch 7: Training Loss = 0.0350, Validation Loss = 0.0354\n",
      "Epoch 8: Training Loss = 0.0338, Validation Loss = 0.0339\n",
      "Epoch 9: Training Loss = 0.0323, Validation Loss = 0.0322\n",
      "Epoch 10: Training Loss = 0.0306, Validation Loss = 0.0304\n",
      "Epoch 11: Training Loss = 0.0288, Validation Loss = 0.0287\n",
      "Epoch 12: Training Loss = 0.0273, Validation Loss = 0.0272\n",
      "Epoch 13: Training Loss = 0.0258, Validation Loss = 0.0259\n",
      "Epoch 14: Training Loss = 0.0246, Validation Loss = 0.0248\n",
      "Epoch 15: Training Loss = 0.0234, Validation Loss = 0.0238\n",
      "Epoch 16: Training Loss = 0.0224, Validation Loss = 0.0230\n",
      "Epoch 17: Training Loss = 0.0215, Validation Loss = 0.0223\n",
      "Epoch 18: Training Loss = 0.0205, Validation Loss = 0.0216\n",
      "Epoch 19: Training Loss = 0.0197, Validation Loss = 0.0210\n",
      "Epoch 20: Training Loss = 0.0189, Validation Loss = 0.0204\n",
      "Epoch 21: Training Loss = 0.0181, Validation Loss = 0.0199\n",
      "Epoch 22: Training Loss = 0.0173, Validation Loss = 0.0194\n",
      "Epoch 23: Training Loss = 0.0166, Validation Loss = 0.0189\n",
      "Epoch 24: Training Loss = 0.0158, Validation Loss = 0.0183\n",
      "Epoch 25: Training Loss = 0.0151, Validation Loss = 0.0179\n",
      "Epoch 26: Training Loss = 0.0144, Validation Loss = 0.0175\n",
      "Epoch 27: Training Loss = 0.0138, Validation Loss = 0.0171\n",
      "Epoch 28: Training Loss = 0.0131, Validation Loss = 0.0167\n",
      "Epoch 29: Training Loss = 0.0124, Validation Loss = 0.0163\n",
      "Epoch 30: Training Loss = 0.0118, Validation Loss = 0.0158\n",
      "Epoch 31: Training Loss = 0.0112, Validation Loss = 0.0155\n",
      "Epoch 32: Training Loss = 0.0106, Validation Loss = 0.0152\n",
      "Epoch 33: Training Loss = 0.0101, Validation Loss = 0.0149\n",
      "Epoch 34: Training Loss = 0.0095, Validation Loss = 0.0145\n",
      "Epoch 35: Training Loss = 0.0090, Validation Loss = 0.0143\n",
      "Epoch 36: Training Loss = 0.0085, Validation Loss = 0.0140\n",
      "Epoch 37: Training Loss = 0.0081, Validation Loss = 0.0138\n",
      "Epoch 38: Training Loss = 0.0076, Validation Loss = 0.0136\n",
      "Epoch 39: Training Loss = 0.0072, Validation Loss = 0.0133\n",
      "Epoch 40: Training Loss = 0.0068, Validation Loss = 0.0131\n",
      "Epoch 41: Training Loss = 0.0064, Validation Loss = 0.0129\n",
      "Epoch 42: Training Loss = 0.0060, Validation Loss = 0.0129\n",
      "Epoch 43: Training Loss = 0.0056, Validation Loss = 0.0127\n",
      "Epoch 44: Training Loss = 0.0053, Validation Loss = 0.0127\n",
      "Epoch 45: Training Loss = 0.0050, Validation Loss = 0.0127\n",
      "Epoch 46: Training Loss = 0.0046, Validation Loss = 0.0127\n",
      "Epoch 47: Training Loss = 0.0043, Validation Loss = 0.0128\n",
      "Epoch 48: Training Loss = 0.0040, Validation Loss = 0.0127\n",
      "Epoch 49: Training Loss = 0.0038, Validation Loss = 0.0127\n",
      "Epoch 50: Training Loss = 0.0035, Validation Loss = 0.0127\n",
      "Epoch 51: Training Loss = 0.0033, Validation Loss = 0.0126\n",
      "Epoch 52: Training Loss = 0.0031, Validation Loss = 0.0128\n",
      "Epoch 53: Training Loss = 0.0029, Validation Loss = 0.0129\n",
      "Epoch 54: Training Loss = 0.0027, Validation Loss = 0.0131\n",
      "Epoch 55: Training Loss = 0.0025, Validation Loss = 0.0131\n",
      "Epoch 56: Training Loss = 0.0023, Validation Loss = 0.0134\n",
      "Epoch 57: Training Loss = 0.0021, Validation Loss = 0.0133\n",
      "Epoch 58: Training Loss = 0.0020, Validation Loss = 0.0135\n",
      "Epoch 59: Training Loss = 0.0018, Validation Loss = 0.0134\n",
      "Epoch 60: Training Loss = 0.0017, Validation Loss = 0.0137\n",
      "Epoch 61: Training Loss = 0.0015, Validation Loss = 0.0137\n",
      "Epoch 62: Training Loss = 0.0014, Validation Loss = 0.0139\n",
      "Epoch 63: Training Loss = 0.0012, Validation Loss = 0.0138\n",
      "Epoch 64: Training Loss = 0.0012, Validation Loss = 0.0138\n",
      "Epoch 65: Training Loss = 0.0010, Validation Loss = 0.0140\n",
      "Epoch 66: Training Loss = 0.0009, Validation Loss = 0.0141\n",
      "Epoch 67: Training Loss = 0.0008, Validation Loss = 0.0142\n",
      "Epoch 68: Training Loss = 0.0008, Validation Loss = 0.0147\n",
      "Epoch 69: Training Loss = 0.0007, Validation Loss = 0.0148\n",
      "Epoch 70: Training Loss = 0.0006, Validation Loss = 0.0147\n",
      "Epoch 71: Training Loss = 0.0006, Validation Loss = 0.0151\n",
      "Epoch 72: Training Loss = 0.0005, Validation Loss = 0.0155\n",
      "Epoch 73: Training Loss = 0.0004, Validation Loss = 0.0155\n",
      "Epoch 74: Training Loss = 0.0004, Validation Loss = 0.0154\n",
      "Epoch 75: Training Loss = 0.0003, Validation Loss = 0.0155\n",
      "Epoch 76: Training Loss = 0.0004, Validation Loss = 0.0156\n",
      "Epoch 77: Training Loss = 0.0003, Validation Loss = 0.0155\n",
      "Epoch 78: Training Loss = 0.0002, Validation Loss = 0.0162\n",
      "Epoch 79: Training Loss = 0.0002, Validation Loss = 0.0163\n",
      "Epoch 80: Training Loss = 0.0002, Validation Loss = 0.0157\n",
      "Epoch 81: Training Loss = 0.0002, Validation Loss = 0.0157\n",
      "Epoch 82: Training Loss = 0.0002, Validation Loss = 0.0160\n",
      "Epoch 83: Training Loss = 0.0001, Validation Loss = 0.0160\n",
      "Epoch 84: Training Loss = 0.0002, Validation Loss = 0.0161\n",
      "Epoch 85: Training Loss = 0.0001, Validation Loss = 0.0165\n",
      "Epoch 86: Training Loss = 0.0002, Validation Loss = 0.0163\n",
      "Epoch 87: Training Loss = 0.0003, Validation Loss = 0.0177\n",
      "Epoch 88: Training Loss = 0.0002, Validation Loss = 0.0165\n",
      "Epoch 89: Training Loss = 0.0001, Validation Loss = 0.0166\n",
      "Epoch 90: Training Loss = 0.0001, Validation Loss = 0.0170\n",
      "Epoch 91: Training Loss = 0.0001, Validation Loss = 0.0168\n",
      "Epoch 92: Training Loss = 0.0001, Validation Loss = 0.0173\n",
      "Epoch 93: Training Loss = 0.0002, Validation Loss = 0.0180\n",
      "Epoch 94: Training Loss = 0.0001, Validation Loss = 0.0180\n",
      "Epoch 95: Training Loss = 0.0001, Validation Loss = 0.0182\n",
      "Epoch 96: Training Loss = 0.0002, Validation Loss = 0.0188\n",
      "Epoch 97: Training Loss = 0.0001, Validation Loss = 0.0186\n",
      "Epoch 98: Training Loss = 0.0001, Validation Loss = 0.0173\n",
      "Epoch 99: Training Loss = 0.0001, Validation Loss = 0.0197\n",
      "Epoch 100: Training Loss = 0.0000, Validation Loss = 0.0174\n"
     ]
    }
   ],
   "source": [
    "model = LeNet()\n",
    "optimizer = torch.optim.AdamW(model.parameters(), lr = 0.00005)\n",
    "loss_fn = torch.nn.CrossEntropyLoss()\n",
    "train_loss = []\n",
    "test_loss = []\n",
    "transform = T.Compose([\n",
    "    T.Normalize(mean=(0.5,0.5,0.5), std=(0.5,0.5,0.5))\n",
    "])\n",
    "epochs = 100\n",
    "best_loss = 100000\n",
    "for epoch in range(epochs):\n",
    "    model.train()\n",
    "    tot_loss = 0\n",
    "    for x,y in train:\n",
    "        #x = transform(x)\n",
    "        y_pred = model(x)\n",
    "        loss = loss_fn(y_pred, y)\n",
    "        tot_loss += loss.item()\n",
    "        optimizer.zero_grad()\n",
    "        loss.backward()\n",
    "        optimizer.step()\n",
    "    train_loss.append(tot_loss/len(train))\n",
    "\n",
    "    tot_loss = 0\n",
    "    model.eval()\n",
    "    with torch.no_grad():\n",
    "        for x,y in val:\n",
    "            #x = transform(x)\n",
    "            y_pred = model(x)\n",
    "            loss = loss_fn(y_pred, y)\n",
    "            tot_loss += loss.item()\n",
    "        test_loss.append(tot_loss/(len(val)))\n",
    "    if best_loss > test_loss[-1]:\n",
    "        best_loss = test_loss[-1]\n",
    "        torch.save(model.state_dict(), 'Saved Data/models/model.pt')\n",
    "    print(f\"Epoch {epoch+1}: Training Loss = {train_loss[epoch]:.4f}, Validation Loss = {test_loss[epoch]:.4f}\")"
   ]
  },
  {
   "cell_type": "markdown",
   "metadata": {},
   "source": [
    "Visulize loss over each epoch"
   ]
  },
  {
   "cell_type": "code",
   "execution_count": 91,
   "metadata": {},
   "outputs": [
    {
     "data": {
      "text/plain": [
       "Text(0.5, 1.0, 'Training and Validation Loss over Epochs')"
      ]
     },
     "execution_count": 91,
     "metadata": {},
     "output_type": "execute_result"
    },
    {
     "data": {
      "image/png": "[encoded data removed]",
      "text/plain": [
       "<Figure size 640x480 with 1 Axes>"
      ]
     },
     "metadata": {},
     "output_type": "display_data"
    }
   ],
   "source": [
    "plt.plot(train_loss, label=\"Training Loss\")\n",
    "plt.plot(test_loss, color='black', label = \"Validation Loss\")\n",
    "plt.grid(True)\n",
    "plt.legend()\n",
    "plt.xlabel(\"Epoch\")\n",
    "plt.ylabel(\"Loss\")\n",
    "plt.title(\"Training and Validation Loss over Epochs\")"
   ]
  },
  {
   "cell_type": "markdown",
   "metadata": {},
   "source": [
    "Test the accuracy of the model after training"
   ]
  },
  {
   "cell_type": "code",
   "execution_count": 107,
   "metadata": {},
   "outputs": [
    {
     "name": "stdout",
     "output_type": "stream",
     "text": [
      "66.41% accuracy on test dataset\n"
     ]
    }
   ],
   "source": [
    "model.load_state_dict(torch.load('Saved Data/models/model.pt', weights_only=True))\n",
    "num_correct = 0\n",
    "model.eval()\n",
    "with torch.no_grad():\n",
    "    for x,y in test:\n",
    "        y_pred = model(transform(x))\n",
    "        num_correct += (torch.argmax(y_pred, dim=1) == y).sum().item()\n",
    "print(f\"{100*num_correct/(len(test) * 5):.2f}% accuracy on test dataset\")\n",
    "\n",
    "        "
   ]
  },
  {
   "cell_type": "markdown",
   "metadata": {},
   "source": [
    "Save the processed data into files for later use"
   ]
  },
  {
   "cell_type": "code",
   "execution_count": 97,
   "metadata": {},
   "outputs": [],
   "source": [
    "torch.save(train_images,'Saved Data/Data/train_images.pt')\n",
    "torch.save(train_labels, 'Saved Data/Data/train_labels.pt')\n",
    "torch.save(test_images, 'Saved Data/Data/test_images.pt')\n",
    "torch.save(test_labels, 'Saved Data/Data/test_labels.pt')\n",
    "torch.save(val_images, 'Saved Data/Data/val_images.pt')\n",
    "torch.save(val_labels, 'Saved Data/Data/val_labels.pt')"
   ]
  },
  {
   "cell_type": "code",
   "execution_count": 101,
   "metadata": {},
   "outputs": [
    {
     "name": "stdout",
     "output_type": "stream",
     "text": [
      "Robust Accuracy: 0.00% over 53 occurances for group 50.0\n"
     ]
    },
    {
     "data": {
      "image/png": "[encoded data removed]",
      "text/plain": [
       "<Figure size 640x480 with 1 Axes>"
      ]
     },
     "metadata": {},
     "output_type": "display_data"
    }
   ],
   "source": [
    "test_group_path = \"Saved Data/Groups/testing_groups.csv\"\n",
    "if not os.path.exists(test_group_path):\n",
    "    print(\"Please run the clustering to get the robust accuracy\")\n",
    "else:\n",
    "    df = pd.read_csv('Saved Data/Groups/testing_groups.csv')\n",
    "\n",
    "    class GroupData(Dataset):\n",
    "        def __init__(self,images, labels, groups):\n",
    "            self.image = images\n",
    "            self.label = labels\n",
    "            self.group = groups\n",
    "\n",
    "        def __len__(self):\n",
    "            return len(self.image)\n",
    "        \n",
    "        def __getitem__(self, index):\n",
    "            return self.image[index], self.label[index], self.group[index]\n",
    "        \n",
    "    test_data = GroupData(test_images, test_labels, df['Labels'])\n",
    "    test_dataloader = DataLoader(test_data, 100)\n",
    "\n",
    "    group_acc = defaultdict(float)\n",
    "    group_num = defaultdict(int)\n",
    "    model.eval()\n",
    "    for x,y,groups in test_dataloader:\n",
    "        y_pred = model(transform(x))\n",
    "        num_correct = (torch.argmax(y_pred, dim=1) == y)\n",
    "        \n",
    "        for group in groups.unique():\n",
    "            group_mask = (groups == group)\n",
    "            group_acc[group.item()] += torch.sum(num_correct[group_mask])\n",
    "            group_num[group.item()] += len(num_correct[group_mask])\n",
    "\n",
    "    plt.bar(df['Labels'].unique(),[100 * group_acc[g] / group_num[g] for g in df['Labels'].unique()])\n",
    "    plt.xlabel(\"Groups\")\n",
    "    plt.ylabel(\"Accuracy Percentage\")\n",
    "    plt.title(\"Accuracy Across Groups\")\n",
    "    plt.grid()\n",
    "    plt.plot()\n",
    "\n",
    "    worst_group = min(df['Labels'].unique(), key = lambda g: group_acc[g] / group_num[g])\n",
    "    print(f\"Robust Accuracy: {100 * group_acc[worst_group] / group_num[worst_group]:.2f}% over {group_num[worst_group]} occurances for group {worst_group}\")"
   ]
  }
 ],
 "metadata": {
  "kernelspec": {
   "display_name": "base",
   "language": "python",
   "name": "python3"
  },
  "language_info": {
   "codemirror_mode": {
    "name": "ipython",
    "version": 3
   },
   "file_extension": ".py",
   "mimetype": "text/x-python",
   "name": "python",
   "nbconvert_exporter": "python",
   "pygments_lexer": "ipython3",
   "version": "3.12.2"
  }
 },
 "nbformat": 4,
 "nbformat_minor": 2
}

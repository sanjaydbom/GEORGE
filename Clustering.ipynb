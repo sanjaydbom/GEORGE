{
 "cells": [
  {
   "cell_type": "code",
   "execution_count": 622,
   "metadata": {},
   "outputs": [],
   "source": [
    "import torch\n",
    "from sklearn.preprocessing import StandardScaler\n",
    "import torchvision.transforms as T\n",
    "from torch import nn\n",
    "from umap.umap_ import UMAP\n",
    "import pandas as pd\n",
    "import matplotlib.pyplot as plt\n",
    "from sklearn.mixture import GaussianMixture\n",
    "from sklearn.metrics import silhouette_score\n",
    "import numpy as np\n",
    "from sklearn.cluster import KMeans"
   ]
  },
  {
   "cell_type": "markdown",
   "metadata": {},
   "source": [
    "Redefine the model architecture but instead of returning the last layer, we return the penultimate layer"
   ]
  },
  {
   "cell_type": "code",
   "execution_count": 623,
   "metadata": {},
   "outputs": [],
   "source": [
    "class LeNet(nn.Module):\n",
    "    def __init__(self):\n",
    "        super().__init__()\n",
    "        self.net = torch.nn.Sequential(\n",
    "            nn.Conv2d(3,9,(5,5)),\n",
    "            nn.ReLU(),\n",
    "            nn.MaxPool2d((2,2)),\n",
    "            nn.Conv2d(9,18,(5,5)),\n",
    "            nn.ReLU(),\n",
    "            nn.MaxPool2d((2,2)),\n",
    "            nn.Flatten(1,-1),\n",
    "            nn.Linear(288,64)\n",
    "            )\n",
    "        self.relu = nn.ReLU()\n",
    "        self.l = nn.Linear(64,5)\n",
    "\n",
    "    def forward(self, x):\n",
    "        x = self.net(x)\n",
    "        return x\n"
   ]
  },
  {
   "cell_type": "markdown",
   "metadata": {},
   "source": [
    "Load the model and the training data"
   ]
  },
  {
   "cell_type": "code",
   "execution_count": 639,
   "metadata": {},
   "outputs": [
    {
     "name": "stderr",
     "output_type": "stream",
     "text": [
      "/var/folders/bn/hglmht2s7y19n14x7s3vfm2m0000gn/T/ipykernel_99750/3168465676.py:4: FutureWarning: You are using `torch.load` with `weights_only=False` (the current default value), which uses the default pickle module implicitly. It is possible to construct malicious pickle data which will execute arbitrary code during unpickling (See https://github.com/pytorch/pytorch/blob/main/SECURITY.md#untrusted-models for more details). In a future release, the default value for `weights_only` will be flipped to `True`. This limits the functions that could be executed during unpickling. Arbitrary objects will no longer be allowed to be loaded via this mode unless they are explicitly allowlisted by the user via `torch.serialization.add_safe_globals`. We recommend you start setting `weights_only=True` for any use case where you don't have full control of the loaded file. Please open an issue on GitHub for any issues related to this experimental feature.\n",
      "  train_images = torch.load('/Users/sanjay/Desktop/Python Projects/AI/George/train_images.pt')\n",
      "/var/folders/bn/hglmht2s7y19n14x7s3vfm2m0000gn/T/ipykernel_99750/3168465676.py:5: FutureWarning: You are using `torch.load` with `weights_only=False` (the current default value), which uses the default pickle module implicitly. It is possible to construct malicious pickle data which will execute arbitrary code during unpickling (See https://github.com/pytorch/pytorch/blob/main/SECURITY.md#untrusted-models for more details). In a future release, the default value for `weights_only` will be flipped to `True`. This limits the functions that could be executed during unpickling. Arbitrary objects will no longer be allowed to be loaded via this mode unless they are explicitly allowlisted by the user via `torch.serialization.add_safe_globals`. We recommend you start setting `weights_only=True` for any use case where you don't have full control of the loaded file. Please open an issue on GitHub for any issues related to this experimental feature.\n",
      "  train_labels = torch.load('/Users/sanjay/Desktop/Python Projects/AI/George/train_labels.pt')\n"
     ]
    }
   ],
   "source": [
    "model = LeNet()\n",
    "model.load_state_dict(torch.load('/Users/sanjay/Desktop/Python Projects/AI/George/model.pt', weights_only=True))\n",
    "model.eval()\n",
    "train_images = torch.load('/Users/sanjay/Desktop/Python Projects/AI/George/train_images.pt')\n",
    "train_labels = torch.load('/Users/sanjay/Desktop/Python Projects/AI/George/train_labels.pt')"
   ]
  },
  {
   "cell_type": "markdown",
   "metadata": {},
   "source": [
    "Make sure the training data was not corrupted"
   ]
  },
  {
   "cell_type": "code",
   "execution_count": 625,
   "metadata": {},
   "outputs": [
    {
     "data": {
      "text/plain": [
       "torch.Size([48004, 3, 28, 28])"
      ]
     },
     "execution_count": 625,
     "metadata": {},
     "output_type": "execute_result"
    }
   ],
   "source": [
    "train_images.shape"
   ]
  },
  {
   "cell_type": "markdown",
   "metadata": {},
   "source": [
    "Sort all the images by labels, and keep track of the index for later use"
   ]
  },
  {
   "cell_type": "code",
   "execution_count": 641,
   "metadata": {},
   "outputs": [],
   "source": [
    "\n",
    "transform = T.Compose([\n",
    "    T.Normalize(mean=(0.5,0.5,0.5), std=(0.5,0.5,0.5))\n",
    "])\n",
    "output = [[],[],[],[],[]]\n",
    "indices = [[],[],[],[],[]]\n",
    "with torch.no_grad():\n",
    "    for index,(x,label) in enumerate(zip(train_images, train_labels)):\n",
    "        output[label].append(model(transform(torch.unsqueeze(x,0)))[0])\n",
    "        indices[label].append(index)"
   ]
  },
  {
   "cell_type": "code",
   "execution_count": 642,
   "metadata": {},
   "outputs": [
    {
     "name": "stdout",
     "output_type": "stream",
     "text": [
      "tensor([ -4.4966,   9.8564,   6.3036,  -3.9335,  -4.5853,   3.6010,  -1.1261,\n",
      "         -1.3643,  -0.1630,   4.0448,   3.3420,  -2.6474,  -5.0475,  -7.2159,\n",
      "         -0.3373,   7.3108,  -1.0397,  11.7725,   8.1777,   3.1699,   7.2453,\n",
      "          3.9548,  -0.4841,  -2.1406,  -3.0027,   3.2276,   2.8054,   8.0212,\n",
      "          4.6876,   9.9327,  -1.5293,  -5.5020,  -2.5677, -12.5115,   5.3602,\n",
      "          0.6122,   9.4569,  -0.8947,   4.2664,   9.3138,   8.5346,  -1.5404,\n",
      "         -3.2625,  -2.3400,  -3.3974,   5.2827, -12.6329,  -1.6231,   0.5767,\n",
      "          6.5745,  -3.2901,  -1.0705,  -0.0554,   5.1487,  -4.8576,  -3.0579,\n",
      "          2.5994,  -1.3498,  -5.7117,  -0.9312,  -0.3212,   2.3399,  -0.8020,\n",
      "          8.4741])\n"
     ]
    }
   ],
   "source": [
    "print(output[0][0])"
   ]
  },
  {
   "cell_type": "markdown",
   "metadata": {},
   "source": [
    "Create a reducer to transform n-dimensional tensors in 2-dimensional tensors"
   ]
  },
  {
   "cell_type": "code",
   "execution_count": 629,
   "metadata": {},
   "outputs": [],
   "source": [
    "reducer1 = UMAP()"
   ]
  },
  {
   "cell_type": "markdown",
   "metadata": {},
   "source": [
    "Normalize the data to aid with dimensionality reducing speeds"
   ]
  },
  {
   "cell_type": "code",
   "execution_count": 630,
   "metadata": {},
   "outputs": [],
   "source": [
    "s1 = StandardScaler().fit_transform(output[0])\n",
    "s2 = StandardScaler().fit_transform(output[1])\n",
    "s3 = StandardScaler().fit_transform(output[2])\n",
    "s4 = StandardScaler().fit_transform(output[3])\n",
    "s5 = StandardScaler().fit_transform(output[4])"
   ]
  },
  {
   "cell_type": "markdown",
   "metadata": {},
   "source": [
    "Reduce the dimensionality of the data"
   ]
  },
  {
   "cell_type": "code",
   "execution_count": null,
   "metadata": {},
   "outputs": [
    {
     "data": {
      "text/plain": [
       "(10133, 2)"
      ]
     },
     "execution_count": 631,
     "metadata": {},
     "output_type": "execute_result"
    }
   ],
   "source": [
    "e1 = reducer1.fit_transform(s1)\n",
    "e2 = reducer1.fit_transform(s2)\n",
    "e3 = reducer1.fit_transform(s3)\n",
    "e4 = reducer1.fit_transform(s4)\n",
    "e5 = reducer1.fit_transform(s5)\n",
    "e1.shape"
   ]
  },
  {
   "cell_type": "markdown",
   "metadata": {},
   "source": [
    "For every single group of labels, figure out the number of clusters and their centers by trying out 2-10 clusters and seeing which one results in the highest silhouette score. Then, for each cluster that we found, break it into F subcluster, F in this case being 10. Record all the centers of each cluster"
   ]
  },
  {
   "cell_type": "code",
   "execution_count": 633,
   "metadata": {},
   "outputs": [],
   "source": [
    "e = [e1,e2,e3,e4,e5]\n",
    "bk = [0,0,0,0,0]\n",
    "f = 10\n",
    "centers = []\n",
    "for i in range(5):\n",
    "    bs = 0\n",
    "    for k in range(2,10):\n",
    "        gm = GaussianMixture(k).fit_predict(e[i])\n",
    "        score = silhouette_score(e[i], gm)\n",
    "        if score > bs:\n",
    "            bs = score\n",
    "            bk[i] = k\n",
    "    predictor = GaussianMixture(bk[i]).fit(e[i])\n",
    "    temp = []\n",
    "    labels = predictor.predict(e[i])\n",
    "    for cluster_value in np.unique(labels):\n",
    "        cluster = e[i][labels == cluster_value]\n",
    "        subclusters = GaussianMixture(f).fit(cluster).means_\n",
    "        for subsubclusters in subclusters:\n",
    "            temp.append(subsubclusters)\n",
    "    centers.append(temp)"
   ]
  },
  {
   "cell_type": "markdown",
   "metadata": {},
   "source": [
    "Label each image according to which subcluster it belongs to. We add num to make sure that images that belong to different labels dont have the same subcluster number"
   ]
  },
  {
   "cell_type": "code",
   "execution_count": 635,
   "metadata": {},
   "outputs": [],
   "source": [
    "labels = np.array([])\n",
    "num = 0\n",
    "for i in range(5):\n",
    "    labels = np.concatenate((labels, KMeans(len(centers[i]), init = centers[i]).fit_predict(e[i]) + num))\n",
    "    num += len(centers[i])"
   ]
  },
  {
   "cell_type": "markdown",
   "metadata": {},
   "source": [
    "Sort the array of subcluster labels in order using the indicies we recorded earlier"
   ]
  },
  {
   "cell_type": "code",
   "execution_count": 636,
   "metadata": {},
   "outputs": [],
   "source": [
    "index = np.array([])\n",
    "for i in range(5):\n",
    "    index = np.concatenate((index, indices[i]))\n",
    "\n",
    "idx = np.argsort(index)\n",
    "labels = np.array(labels)[idx]\n",
    "index = np.array(index)[idx]"
   ]
  },
  {
   "cell_type": "markdown",
   "metadata": {},
   "source": [
    "Save the data"
   ]
  },
  {
   "cell_type": "code",
   "execution_count": 637,
   "metadata": {},
   "outputs": [],
   "source": [
    "df = pd.DataFrame({'Labels': labels})\n",
    "df.to_csv('groups.csv', index= False)"
   ]
  }
 ],
 "metadata": {
  "kernelspec": {
   "display_name": "base",
   "language": "python",
   "name": "python3"
  },
  "language_info": {
   "codemirror_mode": {
    "name": "ipython",
    "version": 3
   },
   "file_extension": ".py",
   "mimetype": "text/x-python",
   "name": "python",
   "nbconvert_exporter": "python",
   "pygments_lexer": "ipython3",
   "version": "3.12.2"
  }
 },
 "nbformat": 4,
 "nbformat_minor": 2
}

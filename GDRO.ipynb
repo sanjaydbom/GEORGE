{
 "cells": [
  {
   "cell_type": "code",
   "execution_count": 342,
   "metadata": {},
   "outputs": [],
   "source": [
    "import torch\n",
    "import pandas as pd\n",
    "import numpy as np\n",
    "from torch.utils.data import Dataset, TensorDataset, DataLoader, WeightedRandomSampler\n",
    "from torch import nn\n",
    "import torchvision.transforms as T\n",
    "from collections import defaultdict\n",
    "import matplotlib.pyplot as plt"
   ]
  },
  {
   "cell_type": "code",
   "execution_count": 343,
   "metadata": {},
   "outputs": [],
   "source": [
    "df = pd.read_csv('groups.csv')"
   ]
  },
  {
   "cell_type": "code",
   "execution_count": 344,
   "metadata": {},
   "outputs": [
    {
     "name": "stdout",
     "output_type": "stream",
     "text": [
      "99.0\n"
     ]
    }
   ],
   "source": [
    "print(max(df['Labels']))"
   ]
  },
  {
   "cell_type": "code",
   "execution_count": 345,
   "metadata": {},
   "outputs": [
    {
     "name": "stderr",
     "output_type": "stream",
     "text": [
      "/var/folders/bn/hglmht2s7y19n14x7s3vfm2m0000gn/T/ipykernel_99744/1655403495.py:1: FutureWarning: You are using `torch.load` with `weights_only=False` (the current default value), which uses the default pickle module implicitly. It is possible to construct malicious pickle data which will execute arbitrary code during unpickling (See https://github.com/pytorch/pytorch/blob/main/SECURITY.md#untrusted-models for more details). In a future release, the default value for `weights_only` will be flipped to `True`. This limits the functions that could be executed during unpickling. Arbitrary objects will no longer be allowed to be loaded via this mode unless they are explicitly allowlisted by the user via `torch.serialization.add_safe_globals`. We recommend you start setting `weights_only=True` for any use case where you don't have full control of the loaded file. Please open an issue on GitHub for any issues related to this experimental feature.\n",
      "  train_images = torch.load('train_images.pt')\n",
      "/var/folders/bn/hglmht2s7y19n14x7s3vfm2m0000gn/T/ipykernel_99744/1655403495.py:2: FutureWarning: You are using `torch.load` with `weights_only=False` (the current default value), which uses the default pickle module implicitly. It is possible to construct malicious pickle data which will execute arbitrary code during unpickling (See https://github.com/pytorch/pytorch/blob/main/SECURITY.md#untrusted-models for more details). In a future release, the default value for `weights_only` will be flipped to `True`. This limits the functions that could be executed during unpickling. Arbitrary objects will no longer be allowed to be loaded via this mode unless they are explicitly allowlisted by the user via `torch.serialization.add_safe_globals`. We recommend you start setting `weights_only=True` for any use case where you don't have full control of the loaded file. Please open an issue on GitHub for any issues related to this experimental feature.\n",
      "  train_labels = torch.load('train_labels.pt')\n",
      "/var/folders/bn/hglmht2s7y19n14x7s3vfm2m0000gn/T/ipykernel_99744/1655403495.py:3: FutureWarning: You are using `torch.load` with `weights_only=False` (the current default value), which uses the default pickle module implicitly. It is possible to construct malicious pickle data which will execute arbitrary code during unpickling (See https://github.com/pytorch/pytorch/blob/main/SECURITY.md#untrusted-models for more details). In a future release, the default value for `weights_only` will be flipped to `True`. This limits the functions that could be executed during unpickling. Arbitrary objects will no longer be allowed to be loaded via this mode unless they are explicitly allowlisted by the user via `torch.serialization.add_safe_globals`. We recommend you start setting `weights_only=True` for any use case where you don't have full control of the loaded file. Please open an issue on GitHub for any issues related to this experimental feature.\n",
      "  test_images = torch.load('test_images.pt')\n",
      "/var/folders/bn/hglmht2s7y19n14x7s3vfm2m0000gn/T/ipykernel_99744/1655403495.py:4: FutureWarning: You are using `torch.load` with `weights_only=False` (the current default value), which uses the default pickle module implicitly. It is possible to construct malicious pickle data which will execute arbitrary code during unpickling (See https://github.com/pytorch/pytorch/blob/main/SECURITY.md#untrusted-models for more details). In a future release, the default value for `weights_only` will be flipped to `True`. This limits the functions that could be executed during unpickling. Arbitrary objects will no longer be allowed to be loaded via this mode unless they are explicitly allowlisted by the user via `torch.serialization.add_safe_globals`. We recommend you start setting `weights_only=True` for any use case where you don't have full control of the loaded file. Please open an issue on GitHub for any issues related to this experimental feature.\n",
      "  test_labels = torch.load('test_labels.pt')\n"
     ]
    }
   ],
   "source": [
    "train_images = torch.load('train_images.pt')\n",
    "train_labels = torch.load('train_labels.pt')\n",
    "test_images = torch.load('test_images.pt')\n",
    "test_labels = torch.load('test_labels.pt')"
   ]
  },
  {
   "cell_type": "markdown",
   "metadata": {},
   "source": [
    "Define a Dataset class that take in the image, the label, and what subcluster group it belongs to"
   ]
  },
  {
   "cell_type": "code",
   "execution_count": 346,
   "metadata": {},
   "outputs": [],
   "source": [
    "class GroupData(Dataset):\n",
    "    def __init__(self,images, labels, groups):\n",
    "        self.image = images\n",
    "        self.label = labels\n",
    "        self.group = groups\n",
    "\n",
    "    def __len__(self):\n",
    "        return len(self.image)\n",
    "    \n",
    "    def __getitem__(self, index):\n",
    "        return self.image[index], self.label[index], self.group[index]"
   ]
  },
  {
   "cell_type": "markdown",
   "metadata": {},
   "source": [
    "Create a weighted random sampler to ensure that all groups are equally included in a batch"
   ]
  },
  {
   "cell_type": "code",
   "execution_count": 347,
   "metadata": {},
   "outputs": [],
   "source": [
    "class_counts = df.value_counts()\n",
    "sample_weights = [1/class_counts[i] for i in df['Labels']]\n",
    "sampler = WeightedRandomSampler(weights=sample_weights, num_samples=len(sample_weights))"
   ]
  },
  {
   "cell_type": "markdown",
   "metadata": {},
   "source": [
    "Create the dataloaders. The batch size is 64"
   ]
  },
  {
   "cell_type": "code",
   "execution_count": 348,
   "metadata": {},
   "outputs": [],
   "source": [
    "train_data = GroupData(train_images, train_labels, df['Labels'])\n",
    "train_dataloader = DataLoader(train_data,sampler = sampler, batch_size=64)\n",
    "test_data = TensorDataset(test_images, test_labels)\n",
    "test_dataloader = DataLoader(test_data, 5)"
   ]
  },
  {
   "cell_type": "markdown",
   "metadata": {},
   "source": [
    "Redefine the model architecture"
   ]
  },
  {
   "cell_type": "code",
   "execution_count": 349,
   "metadata": {},
   "outputs": [],
   "source": [
    "class LeNet(nn.Module):\n",
    "    def __init__(self):\n",
    "        super().__init__()\n",
    "        self.net = torch.nn.Sequential(\n",
    "            nn.Conv2d(3,9,(5,5)),\n",
    "            nn.ReLU(),\n",
    "            nn.MaxPool2d((2,2)),\n",
    "            nn.Conv2d(9,18,(5,5)),\n",
    "            nn.ReLU(),\n",
    "            nn.MaxPool2d((2,2)),\n",
    "            nn.Flatten(1,-1),\n",
    "            nn.Linear(288,64)\n",
    "            )\n",
    "        self.relu = nn.ReLU()\n",
    "        self.l = nn.Linear(64,5)\n",
    "\n",
    "    def forward(self, x):\n",
    "        x = self.net(x)\n",
    "        x = self.relu(x)\n",
    "        return self.l(x)"
   ]
  },
  {
   "cell_type": "markdown",
   "metadata": {},
   "source": [
    "Train the model. We use a learning rate of 0.00005, and train for 150 epochs. We have 2 loss functions because one is used for training and the other is used for testing. We don't reduce the values from the loss function because we want to know the loss of each individual value so we can record it and find the worst group. We don't use a learning rate reducer due to the volatility of the testing loss(visualized below)"
   ]
  },
  {
   "cell_type": "code",
   "execution_count": 350,
   "metadata": {},
   "outputs": [
    {
     "name": "stdout",
     "output_type": "stream",
     "text": [
      "Epoch 1: 1.6448\n",
      "Epoch 2: 1.6450\n",
      "Epoch 3: 1.6086\n",
      "Epoch 4: 1.6210\n",
      "Epoch 5: 1.6051\n",
      "Epoch 6: 1.6156\n",
      "Epoch 7: 1.6150\n",
      "Epoch 8: 1.6542\n",
      "Epoch 9: 1.5899\n",
      "Epoch 10: 1.5872\n",
      "Epoch 11: 1.5661\n",
      "Epoch 12: 1.5349\n",
      "Epoch 13: 1.4330\n",
      "Epoch 14: 1.3988\n",
      "Epoch 15: 1.3419\n",
      "Epoch 16: 1.2603\n",
      "Epoch 17: 1.2747\n",
      "Epoch 18: 1.1967\n",
      "Epoch 19: 1.2213\n",
      "Epoch 20: 1.1234\n",
      "Epoch 21: 1.2278\n",
      "Epoch 22: 1.0342\n",
      "Epoch 23: 1.0232\n",
      "Epoch 24: 0.8652\n",
      "Epoch 25: 1.0834\n",
      "Epoch 26: 0.9985\n",
      "Epoch 27: 0.9311\n",
      "Epoch 28: 0.8557\n",
      "Epoch 29: 0.8309\n",
      "Epoch 30: 0.8967\n",
      "Epoch 31: 0.9210\n",
      "Epoch 32: 0.8433\n",
      "Epoch 33: 0.8987\n",
      "Epoch 34: 0.7932\n",
      "Epoch 35: 0.8199\n",
      "Epoch 36: 0.8372\n",
      "Epoch 37: 0.8784\n",
      "Epoch 38: 0.8689\n",
      "Epoch 39: 0.7850\n",
      "Epoch 40: 0.7632\n",
      "Epoch 41: 0.7791\n",
      "Epoch 42: 0.7486\n",
      "Epoch 43: 0.7731\n",
      "Epoch 44: 0.7538\n",
      "Epoch 45: 0.8849\n",
      "Epoch 46: 0.8106\n",
      "Epoch 47: 0.8109\n",
      "Epoch 48: 0.7682\n",
      "Epoch 49: 0.8224\n",
      "Epoch 50: 0.9256\n",
      "Epoch 51: 0.8579\n",
      "Epoch 52: 0.8195\n",
      "Epoch 53: 0.7811\n",
      "Epoch 54: 0.7054\n",
      "Epoch 55: 0.7566\n",
      "Epoch 56: 0.8726\n",
      "Epoch 57: 0.8522\n",
      "Epoch 58: 0.8948\n",
      "Epoch 59: 0.8755\n",
      "Epoch 60: 0.8219\n",
      "Epoch 61: 0.7364\n",
      "Epoch 62: 0.8309\n",
      "Epoch 63: 0.8365\n",
      "Epoch 64: 0.7555\n",
      "Epoch 65: 0.8058\n",
      "Epoch 66: 0.7218\n",
      "Epoch 67: 0.7966\n",
      "Epoch 68: 0.8626\n",
      "Epoch 69: 0.7832\n",
      "Epoch 70: 0.8296\n",
      "Epoch 71: 0.7870\n",
      "Epoch 72: 0.7890\n",
      "Epoch 73: 0.7716\n",
      "Epoch 74: 0.7994\n",
      "Epoch 75: 0.9006\n",
      "Epoch 76: 0.9312\n",
      "Epoch 77: 0.8734\n",
      "Epoch 78: 0.8894\n",
      "Epoch 79: 0.7933\n",
      "Epoch 80: 0.8022\n",
      "Epoch 81: 0.8346\n",
      "Epoch 82: 0.8720\n",
      "Epoch 83: 0.9044\n",
      "Epoch 84: 0.9587\n",
      "Epoch 85: 0.8441\n",
      "Epoch 86: 0.9043\n",
      "Epoch 87: 0.9205\n",
      "Epoch 88: 0.9004\n",
      "Epoch 89: 0.9143\n",
      "Epoch 90: 0.8252\n",
      "Epoch 91: 0.9146\n",
      "Epoch 92: 0.8390\n",
      "Epoch 93: 0.8941\n",
      "Epoch 94: 0.9168\n",
      "Epoch 95: 0.9182\n",
      "Epoch 96: 0.8502\n",
      "Epoch 97: 0.8092\n",
      "Epoch 98: 0.9817\n",
      "Epoch 99: 0.8600\n",
      "Epoch 100: 0.8297\n",
      "Epoch 101: 0.8419\n",
      "Epoch 102: 0.8777\n",
      "Epoch 103: 0.8832\n",
      "Epoch 104: 0.8912\n",
      "Epoch 105: 1.1186\n",
      "Epoch 106: 0.9545\n",
      "Epoch 107: 0.8954\n",
      "Epoch 108: 0.9189\n",
      "Epoch 109: 0.8698\n",
      "Epoch 110: 0.8964\n",
      "Epoch 111: 0.9435\n",
      "Epoch 112: 0.9396\n",
      "Epoch 113: 0.8471\n",
      "Epoch 114: 0.8564\n",
      "Epoch 115: 1.0049\n",
      "Epoch 116: 0.8877\n",
      "Epoch 117: 0.8353\n",
      "Epoch 118: 0.9051\n",
      "Epoch 119: 0.9684\n",
      "Epoch 120: 0.8557\n",
      "Epoch 121: 0.9163\n",
      "Epoch 122: 0.8982\n",
      "Epoch 123: 0.9005\n",
      "Epoch 124: 0.8981\n",
      "Epoch 125: 0.9073\n",
      "Epoch 126: 0.9931\n",
      "Epoch 127: 0.9164\n",
      "Epoch 128: 0.9388\n",
      "Epoch 129: 1.0371\n",
      "Epoch 130: 0.9971\n",
      "Epoch 131: 1.0349\n",
      "Epoch 132: 1.0048\n",
      "Epoch 133: 0.9196\n",
      "Epoch 134: 0.9566\n",
      "Epoch 135: 1.0022\n",
      "Epoch 136: 0.9993\n",
      "Epoch 137: 1.0453\n",
      "Epoch 138: 1.0074\n",
      "Epoch 139: 0.9758\n",
      "Epoch 140: 0.9989\n",
      "Epoch 141: 0.9961\n",
      "Epoch 142: 0.9004\n",
      "Epoch 143: 0.9964\n",
      "Epoch 144: 1.0644\n",
      "Epoch 145: 0.9417\n",
      "Epoch 146: 0.9207\n",
      "Epoch 147: 0.9806\n",
      "Epoch 148: 0.9914\n",
      "Epoch 149: 1.0950\n",
      "Epoch 150: 0.9598\n"
     ]
    }
   ],
   "source": [
    "model = LeNet()\n",
    "optimizer = torch.optim.AdamW(model.parameters(), lr = 0.00005)\n",
    "loss_fn = nn.CrossEntropyLoss(reduction='none')\n",
    "loss_fn2 = nn.CrossEntropyLoss()\n",
    "transform = T.Compose([\n",
    "    T.Normalize(mean=(0.5,0.5,0.5), std=(0.5,0.5,0.5))\n",
    "])\n",
    "test_loss = []\n",
    "epochs = 150\n",
    "best_loss = 100\n",
    "for epoch in range(epochs):\n",
    "    group_losses = defaultdict(float)\n",
    "    group_num = defaultdict(int)\n",
    "    model.train()\n",
    "    for x,y,groups in train_dataloader:\n",
    "        x = transform(x)\n",
    "        y_pred = model(x)\n",
    "        loss = loss_fn(y_pred,y)\n",
    "        optimizer.zero_grad()\n",
    "        for group in groups.unique():\n",
    "            group_mask = (groups == group)\n",
    "            group_losses[group.item()] += loss[group_mask.squeeze()].mean().item()\n",
    "            group_num[group.item()] += len(loss[group_mask.squeeze()])\n",
    "        \n",
    "        worst_group = max(group_losses, key = lambda g: group_losses[g] / group_num[g])\n",
    "        loss[groups == worst_group].mean().backward()\n",
    "        optimizer.step()\n",
    "\n",
    "    model.eval()\n",
    "    with torch.no_grad():\n",
    "        tot_loss = 0\n",
    "        for x,y in test_dataloader:\n",
    "            x = transform(x)\n",
    "            y_pred = model(x)\n",
    "            loss = loss_fn2(y_pred, y)\n",
    "            tot_loss += loss.item()\n",
    "        tot_loss /= len(test_dataloader)\n",
    "        test_loss.append(tot_loss)\n",
    "    if(tot_loss < best_loss):\n",
    "        torch.save(model.state_dict(),'model2.pt')\n",
    "        best_loss = tot_loss\n",
    "\n",
    "    print(f\"Epoch {epoch+1}: {test_loss[-1]:.4f}\")"
   ]
  },
  {
   "cell_type": "markdown",
   "metadata": {},
   "source": [
    "Visualize the loss over each epoch"
   ]
  },
  {
   "cell_type": "code",
   "execution_count": 355,
   "metadata": {},
   "outputs": [
    {
     "data": {
      "image/png": "[encoded data removed]",
      "text/plain": [
       "<Figure size 640x480 with 1 Axes>"
      ]
     },
     "metadata": {},
     "output_type": "display_data"
    }
   ],
   "source": [
    "plt.plot(test_loss)\n",
    "plt.grid(True)"
   ]
  },
  {
   "cell_type": "code",
   "execution_count": 357,
   "metadata": {},
   "outputs": [
    {
     "name": "stdout",
     "output_type": "stream",
     "text": [
      "Accuracy: 74.90%\n"
     ]
    }
   ],
   "source": [
    "num_correct = 0\n",
    "model.eval()\n",
    "model.load_state_dict(torch.load(\"model2.pt\", weights_only=True))\n",
    "with torch.no_grad():\n",
    "    for x,y in test_dataloader:\n",
    "        y_pred = model(transform(x))\n",
    "        num_correct += (torch.argmax(y_pred, dim=1) == y).sum().item()\n",
    "print(f\"Accuracy: {100 * num_correct/(len(test_dataloader)*5):.2f}%\")"
   ]
  }
 ],
 "metadata": {
  "kernelspec": {
   "display_name": "base",
   "language": "python",
   "name": "python3"
  },
  "language_info": {
   "codemirror_mode": {
    "name": "ipython",
    "version": 3
   },
   "file_extension": ".py",
   "mimetype": "text/x-python",
   "name": "python",
   "nbconvert_exporter": "python",
   "pygments_lexer": "ipython3",
   "version": "3.12.2"
  }
 },
 "nbformat": 4,
 "nbformat_minor": 2
}
